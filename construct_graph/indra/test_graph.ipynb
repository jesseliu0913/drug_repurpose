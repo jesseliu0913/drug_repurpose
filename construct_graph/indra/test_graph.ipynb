{
 "cells": [
  {
   "cell_type": "code",
   "execution_count": 1,
   "metadata": {},
   "outputs": [
    {
     "name": "stderr",
     "output_type": "stream",
     "text": [
      "/home/jesseliu/miniconda3/envs/dynh/lib/python3.10/site-packages/tqdm/auto.py:21: TqdmWarning: IProgress not found. Please update jupyter and ipywidgets. See https://ipywidgets.readthedocs.io/en/stable/user_install.html\n",
      "  from .autonotebook import tqdm as notebook_tqdm\n",
      "INFO: [2025-04-06 01:02:38] protmapper.resources - Could not access 'hgnc' resource file, will download.\n",
      "INFO: [2025-04-06 01:02:38] protmapper.resources - Downloading 'hgnc' resource file into /home/jesseliu/.data/protmapper/0.0.29/hgnc_entries.tsv.gz from cache.\n",
      "INFO: [2025-04-06 01:03:59] protmapper.resources - Could not access 'up' resource file, will download.\n",
      "INFO: [2025-04-06 01:03:59] protmapper.resources - Downloading 'up' resource file into /home/jesseliu/.data/protmapper/0.0.29/uniprot_entries.tsv.gz from cache.\n",
      "INFO: [2025-04-06 01:04:09] protmapper.resources - Could not access 'upsec' resource file, will download.\n",
      "INFO: [2025-04-06 01:04:09] protmapper.resources - Downloading 'upsec' resource file into /home/jesseliu/.data/protmapper/0.0.29/uniprot_sec_ac.txt.gz from cache.\n"
     ]
    }
   ],
   "source": [
    "from indra.sources import trips\n",
    "\n",
    "tp = trips.process_text(\"MEK1 phosphorylates ERK2\")\n",
    "stmts = tp.statements"
   ]
  },
  {
   "cell_type": "code",
   "execution_count": 10,
   "metadata": {},
   "outputs": [
    {
     "data": {
      "image/png": "[encoded data removed]",
      "text/plain": [
       "<Figure size 640x480 with 1 Axes>"
      ]
     },
     "metadata": {},
     "output_type": "display_data"
    }
   ],
   "source": [
    "from indra.sources import trips\n",
    "from indra.tools import assemble_corpus\n",
    "import networkx as nx\n",
    "import matplotlib.pyplot as plt\n",
    "\n",
    "prompt = \"Here's a step-by-step logical explanation:\\n\\n1.  **Premise 1:** Nonpapillary renal cell carcinoma is associated with FLT1 (presumably, FLT1 plays a role in its development or progression).\\n2.  **Premise 2:** Axitinib targets FLT1 (meaning it inhibits or blocks the activity of FLT1).\\n3.  **Inference:** Targeting FLT1 with Axitinib *could* potentially disrupt the growth or progression of nonpapillary renal cell carcinoma, given the association in Premise 1.\\n4.  **Conclusion:** Therefore, nonpapillary renal cell carcinoma is an indication for Axitinib (meaning Axitinib *may* be a suitable treatment option).\\n\\n**In essence:** The logic is that if a cancer is linked to a specific protein (FLT1) and a drug targets that protein, the cancer *might* be susceptible to the drug's effects, making the cancer a potential target for the drug.\\n\"\n",
    "tp = trips.process_text(prompt)\n",
    "stmts = tp.statements\n",
    "G = nx.DiGraph()\n",
    "\n",
    "for stmt in stmts:\n",
    "    subj = stmt.agent_list()[0].name\n",
    "    obj = stmt.agent_list()[1].name\n",
    "    rel = stmt.__class__.__name__\n",
    "    G.add_edge(subj, obj, label=rel)\n",
    "\n",
    "pos = nx.spring_layout(G)\n",
    "edge_labels = nx.get_edge_attributes(G, 'label')\n",
    "\n",
    "nx.draw(G, pos, with_labels=True, node_color='lightblue', edge_color='gray', node_size=3000, font_size=10)\n",
    "nx.draw_networkx_edge_labels(G, pos, edge_labels=edge_labels)\n",
    "plt.show()\n"
   ]
  },
  {
   "cell_type": "code",
   "execution_count": null,
   "metadata": {},
   "outputs": [
    {
     "name": "stderr",
     "output_type": "stream",
     "text": [
      "INFO: [2025-04-06 02:23:17] httpx - HTTP Request: POST https://api.openai.com/v1/chat/completions \"HTTP/1.1 200 OK\"\n"
     ]
    },
    {
     "name": "stdout",
     "output_type": "stream",
     "text": [
      "[(\"nonpapillary renal cell carcinoma\", \"is associated with\", \"FLT1\"), \n",
      "(\"Axitinib\", \"targets\", \"FLT1\"), \n",
      "(\"nonpapillary renal cell carcinoma\", \"is an indication for\", \"Axitinib\")]\n"
     ]
    }
   ],
   "source": [
    "from langchain.chat_models import ChatOpenAI\n",
    "from langchain.prompts import PromptTemplate\n",
    "from langchain.chains import LLMChain\n",
    "\n",
    "llm = ChatOpenAI(temperature=0, model_name=\"gpt-4\")\n",
    "template = \"\"\"\n",
    "Extract medical and biology related subject-relation-object triples from the following text:\n",
    "\n",
    "\"{context}\"\n",
    "\n",
    "Return the result as a list of triples, like: [(subject, relation, object)]\n",
    "\"\"\"\n",
    "\n",
    "prompt = PromptTemplate(input_variables=[\"context\"], template=template)\n",
    "chain = LLMChain(llm=llm, prompt=prompt)\n",
    "\n",
    "text = \"\"\"\n",
    "Given the association between nonpapillary renal cell carcinoma and FLT1, and the fact that Axitinib targets FLT1, nonpapillary renal cell carcinoma is an indication for Axitinib.\", \"reasoning\": \"Here's a step-by-step logical explanation:\\n\\n1.  **Premise 1:** Nonpapillary renal cell carcinoma is associated with FLT1 (presumably, FLT1 plays a role in its development or progression).\\n2.  **Premise 2:** Axitinib targets FLT1 (meaning it inhibits or blocks the activity of FLT1).\\n3.  **Inference:** Targeting FLT1 with Axitinib *could* potentially disrupt the growth or progression of nonpapillary renal cell carcinoma, given the association in Premise 1.\\n4.  **Conclusion:** Therefore, nonpapillary renal cell carcinoma is an indication for Axitinib (meaning Axitinib *may* be a suitable treatment option).\\n\\n**In essence:** The logic is that if a cancer is linked to a specific protein (FLT1) and a drug targets that protein, the cancer *might* be susceptible to the drug's effects, making the cancer a potential target for the drug.\\n\n",
    "\"\"\"\n",
    "\n",
    "result = chain.run(context=text)\n",
    "print(result)"
   ]
  },
  {
   "cell_type": "code",
   "execution_count": 14,
   "metadata": {},
   "outputs": [
    {
     "name": "stdout",
     "output_type": "stream",
     "text": [
      "Warning: When  cdn_resources is 'local' jupyter notebook has issues displaying graphics on chrome/safari. Use cdn_resources='in_line' or cdn_resources='remote' if you have issues viewing graphics in a notebook.\n",
      "graph.html\n"
     ]
    },
    {
     "data": {
      "text/html": [
       "\n",
       "        <iframe\n",
       "            width=\"100%\"\n",
       "            height=\"600px\"\n",
       "            src=\"graph.html\"\n",
       "            frameborder=\"0\"\n",
       "            allowfullscreen\n",
       "            \n",
       "        ></iframe>\n",
       "        "
      ],
      "text/plain": [
       "<IPython.lib.display.IFrame at 0x77ff6d393340>"
      ]
     },
     "execution_count": 14,
     "metadata": {},
     "output_type": "execute_result"
    }
   ],
   "source": [
    "import networkx as nx\n",
    "from pyvis.network import Network\n",
    "import ast\n",
    "\n",
    "triples = ast.literal_eval(result)\n",
    "\n",
    "G = nx.DiGraph()\n",
    "for subj, rel, obj in triples:\n",
    "    G.add_edge(subj, obj, label=rel)\n",
    "\n",
    "net = Network(notebook=True)\n",
    "net.from_nx(G)\n",
    "net.show(\"graph.html\")\n"
   ]
  }
 ],
 "metadata": {
  "kernelspec": {
   "display_name": "dynh",
   "language": "python",
   "name": "python3"
  },
  "language_info": {
   "codemirror_mode": {
    "name": "ipython",
    "version": 3
   },
   "file_extension": ".py",
   "mimetype": "text/x-python",
   "name": "python",
   "nbconvert_exporter": "python",
   "pygments_lexer": "ipython3",
   "version": "3.10.16"
  }
 },
 "nbformat": 4,
 "nbformat_minor": 2
}
