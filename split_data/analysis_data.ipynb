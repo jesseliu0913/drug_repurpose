{
 "cells": [
  {
   "cell_type": "code",
   "execution_count": 1,
   "metadata": {},
   "outputs": [],
   "source": [
    "import os\n",
    "import json\n",
    "import pandas as pd\n"
   ]
  },
  {
   "cell_type": "code",
   "execution_count": 4,
   "metadata": {},
   "outputs": [
    {
     "name": "stdout",
     "output_type": "stream",
     "text": [
      "Number of unique node types: 10\n",
      "Unique node types:\n",
      "['gene/protein' 'drug' 'effect/phenotype' 'disease' 'biological_process'\n",
      " 'molecular_function' 'cellular_component' 'exposure' 'pathway' 'anatomy']\n",
      "\n",
      "Count of each node type:\n",
      "node_type\n",
      "biological_process    28642\n",
      "gene/protein          27671\n",
      "disease               17080\n",
      "effect/phenotype      15311\n",
      "anatomy               14035\n",
      "molecular_function    11169\n",
      "drug                   7957\n",
      "cellular_component     4176\n",
      "pathway                2516\n",
      "exposure                818\n",
      "Name: count, dtype: int64\n"
     ]
    }
   ],
   "source": [
    "NODE_FILE = \"/playpen/jesse/drug_repurpose/PrimeKG/nodes.csv\"\n",
    "df_node = pd.read_csv(NODE_FILE)\n",
    "\n",
    "unique_node_types = df_node['node_type'].nunique()\n",
    "print(f\"Number of unique node types: {unique_node_types}\")\n",
    "\n",
    "print(\"Unique node types:\")\n",
    "print(df_node['node_type'].unique())\n",
    "\n",
    "print(\"\\nCount of each node type:\")\n",
    "print(df_node['node_type'].value_counts())"
   ]
  },
  {
   "cell_type": "code",
   "execution_count": 6,
   "metadata": {},
   "outputs": [
    {
     "name": "stdout",
     "output_type": "stream",
     "text": [
      "             node_type    node_source  count\n",
      "0              anatomy         UBERON  14035\n",
      "1   biological_process             GO  28642\n",
      "2   cellular_component             GO   4176\n",
      "3              disease          MONDO  15813\n",
      "4              disease  MONDO_grouped   1267\n",
      "5                 drug       DrugBank   7957\n",
      "6     effect/phenotype            HPO  15311\n",
      "7             exposure            CTD    818\n",
      "8         gene/protein           NCBI  27671\n",
      "9   molecular_function             GO  11169\n",
      "10             pathway       REACTOME   2516\n"
     ]
    }
   ],
   "source": [
    "source_counts = df_node.groupby(['node_type', 'node_source']).size().reset_index(name='count')\n",
    "print(source_counts)"
   ]
  },
  {
   "cell_type": "code",
   "execution_count": 10,
   "metadata": {},
   "outputs": [
    {
     "name": "stdout",
     "output_type": "stream",
     "text": [
      "Number of unique relation types: 30\n",
      "\n",
      "Unique relation types:\n",
      "['protein_protein' 'drug_protein' 'contraindication' 'indication'\n",
      " 'off-label use' 'drug_drug' 'phenotype_protein' 'phenotype_phenotype'\n",
      " 'disease_phenotype_negative' 'disease_phenotype_positive'\n",
      " 'disease_protein' 'disease_disease' 'drug_effect' 'bioprocess_bioprocess'\n",
      " 'molfunc_molfunc' 'cellcomp_cellcomp' 'molfunc_protein'\n",
      " 'cellcomp_protein' 'bioprocess_protein' 'exposure_protein'\n",
      " 'exposure_disease' 'exposure_exposure' 'exposure_bioprocess'\n",
      " 'exposure_molfunc' 'exposure_cellcomp' 'pathway_pathway'\n",
      " 'pathway_protein' 'anatomy_anatomy' 'anatomy_protein_present'\n",
      " 'anatomy_protein_absent']\n",
      "\n",
      "Relation counts:\n",
      "relation\n",
      "anatomy_protein_present       3036406\n",
      "drug_drug                     2672628\n",
      "protein_protein                642150\n",
      "disease_phenotype_positive     300634\n",
      "bioprocess_protein             289610\n",
      "cellcomp_protein               166804\n",
      "disease_protein                160822\n",
      "molfunc_protein                139060\n",
      "drug_effect                    129568\n",
      "bioprocess_bioprocess          105772\n",
      "pathway_protein                 85292\n",
      "disease_disease                 64388\n",
      "contraindication                61350\n",
      "drug_protein                    51306\n",
      "anatomy_protein_absent          39774\n",
      "phenotype_phenotype             37472\n",
      "anatomy_anatomy                 28064\n",
      "molfunc_molfunc                 27148\n",
      "indication                      18776\n",
      "cellcomp_cellcomp                9690\n",
      "phenotype_protein                6660\n",
      "off-label use                    5136\n",
      "pathway_pathway                  5070\n",
      "exposure_disease                 4608\n",
      "exposure_exposure                4140\n",
      "exposure_bioprocess              3250\n",
      "exposure_protein                 2424\n",
      "disease_phenotype_negative       2386\n",
      "exposure_molfunc                   90\n",
      "exposure_cellcomp                  20\n",
      "Name: count, dtype: int64\n"
     ]
    }
   ],
   "source": [
    "EDGE_FILE = \"/playpen/jesse/drug_repurpose/PrimeKG/edges.csv\"  \n",
    "df_edges = pd.read_csv(EDGE_FILE)\n",
    "\n",
    "unique_relations = df_edges['relation'].nunique()\n",
    "print(f\"Number of unique relation types: {unique_relations}\")\n",
    "\n",
    "print(\"\\nUnique relation types:\")\n",
    "print(df_edges['relation'].unique())\n",
    "\n",
    "print(\"\\nRelation counts:\")\n",
    "print(df_edges['relation'].value_counts())"
   ]
  },
  {
   "cell_type": "code",
   "execution_count": 11,
   "metadata": {},
   "outputs": [],
   "source": [
    "# Inference path relations:\n",
    "needed_relations = [\n",
    "    \"disease_protein\",\n",
    "    \"phenotype_protein\",\n",
    "    \"drug_protein\",\n",
    "    \"disease_phenotype_positive\"\n",
    "]\n",
    "\n",
    "# Validation relation:\n",
    "validation_relation = \"indication\""
   ]
  },
  {
   "cell_type": "code",
   "execution_count": 20,
   "metadata": {},
   "outputs": [
    {
     "name": "stdout",
     "output_type": "stream",
     "text": [
      "         disease_index  gene_index\n",
      "3235582           7097       28313\n",
      "3235583           2174       28313\n",
      "3235584           8038       28313\n",
      "3235585           5925       28313\n",
      "3235586            238       28313\n",
      "...                ...         ...\n",
      "6030122          28149        4152\n",
      "6030123          28181          59\n",
      "6030124          31190        5826\n",
      "6030125          33606       10422\n",
      "6030126          30032       33802\n",
      "\n",
      "[160822 rows x 2 columns]\n"
     ]
    }
   ],
   "source": [
    "path_edges = df_edges[df_edges['relation'].isin(needed_relations)]\n",
    "\n",
    "disease_gene = path_edges[path_edges['relation'] == 'disease_protein'][['x_index', 'y_index']]\n",
    "drug_gene = path_edges[path_edges['relation'] == 'drug_protein'][['x_index', 'y_index']]\n",
    "disease_pheno = path_edges[path_edges['relation'] == 'disease_phenotype_positive'][['x_index', 'y_index']]\n",
    "drug_pheno = path_edges[path_edges['relation'] == 'drug_phenotype'][['x_index', 'y_index']]\n",
    "\n",
    "disease_gene.columns = ['disease_index', 'gene_index']\n",
    "drug_gene.columns = ['drug_index', 'gene_index']\n",
    "disease_pheno.columns = ['disease_index', 'phenotype_index']\n",
    "drug_pheno.columns = ['drug_index', 'phenotype_index']\n",
    "print(disease_gene)"
   ]
  },
  {
   "cell_type": "code",
   "execution_count": 21,
   "metadata": {},
   "outputs": [],
   "source": [
    "# ---- Inference Path 1: Disease → Protein → Drug ----\n",
    "dg_merge = pd.merge(disease_gene, drug_gene, on='gene_index')\n",
    "inferred_disease_drug_1 = dg_merge[['disease_index', 'drug_index']]\n",
    "\n",
    "# ---- Inference Path 2: Disease → Phenotype → Protein → Drug ----\n",
    "dp_merge = pd.merge(disease_pheno, drug_pheno, on='phenotype_index')\n",
    "inferred_disease_drug_2 = dp_merge[['disease_index', 'drug_index']]\n",
    "\n",
    "inferred_pairs = pd.concat([inferred_disease_drug_1, inferred_disease_drug_2]).drop_duplicates()"
   ]
  },
  {
   "cell_type": "code",
   "execution_count": 22,
   "metadata": {},
   "outputs": [
    {
     "name": "stdout",
     "output_type": "stream",
     "text": [
      "Total inferred pairs: 406600\n",
      "Validated hits (via indication): 1931\n",
      "\n",
      "Sample validated hits (undirected):\n",
      "           entity_1       entity_2\n",
      "121     Ziprasidone  schizophrenia\n",
      "125      Olanzapine  schizophrenia\n",
      "130        Loxapine  schizophrenia\n",
      "131       Promazine  schizophrenia\n",
      "136  Chlorpromazine  schizophrenia\n"
     ]
    }
   ],
   "source": [
    "\n",
    "# Load known indications\n",
    "indication_edges = df_edges[df_edges['relation'] == validation_relation][['x_index', 'y_index']]\n",
    "indication_edges['pair'] = indication_edges.apply(\n",
    "    lambda row: tuple(sorted([row['x_index'], row['y_index']])), axis=1\n",
    ")\n",
    "known_pairs_set = set(indication_edges['pair'])\n",
    "\n",
    "inferred_pairs['pair'] = inferred_pairs.apply(\n",
    "    lambda row: tuple(sorted([row['disease_index'], row['drug_index']])), axis=1\n",
    ")\n",
    "inferred_pairs = inferred_pairs.drop_duplicates(subset='pair')\n",
    "\n",
    "# Map to names\n",
    "inferred_pairs['is_validated'] = inferred_pairs['pair'].isin(known_pairs_set)\n",
    "validated_hits = inferred_pairs[inferred_pairs['is_validated']].copy()\n",
    "\n",
    "id_to_name = df_node.set_index('node_index')['node_name'].to_dict()\n",
    "\n",
    "def map_pair_names(row):\n",
    "    node1 = id_to_name.get(row['pair'][0], 'N/A')\n",
    "    node2 = id_to_name.get(row['pair'][1], 'N/A')\n",
    "    return pd.Series({'entity_1': node1, 'entity_2': node2})\n",
    "\n",
    "validated_named = validated_hits.apply(map_pair_names, axis=1)\n",
    "\n",
    "print(\"Total inferred pairs:\", len(inferred_pairs))\n",
    "print(\"Validated hits (via indication):\", len(validated_hits))\n",
    "\n",
    "print(\"\\nSample validated hits (undirected):\")\n",
    "print(validated_named.head())\n"
   ]
  }
 ],
 "metadata": {
  "kernelspec": {
   "display_name": "dynh",
   "language": "python",
   "name": "python3"
  },
  "language_info": {
   "codemirror_mode": {
    "name": "ipython",
    "version": 3
   },
   "file_extension": ".py",
   "mimetype": "text/x-python",
   "name": "python",
   "nbconvert_exporter": "python",
   "pygments_lexer": "ipython3",
   "version": "3.10.16"
  }
 },
 "nbformat": 4,
 "nbformat_minor": 2
}
