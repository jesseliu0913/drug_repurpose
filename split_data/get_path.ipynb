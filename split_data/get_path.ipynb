{
 "cells": [
  {
   "cell_type": "markdown",
   "metadata": {},
   "source": [
    "# Disease to Drug Path Extraction\n",
    "\n",
    "This notebook extracts different logical paths between diseases and drugs from the PrimeKG knowledge graph."
   ]
  },
  {
   "cell_type": "code",
   "execution_count": null,
   "metadata": {},
   "source": [
    "import pandas as pd\n",
    "import numpy as np\n",
    "from collections import defaultdict\n",
    "import time\n",
    "from tqdm.notebook import tqdm"
   ]
  },
  {
   "cell_type": "markdown",
   "metadata": {},
   "source": [
    "## Load Data"
   ]
  },
  {
   "cell_type": "code",
   "execution_count": null,
   "metadata": {},
   "source": [
    "# File paths\n",
    "NODE_FILE = \"/playpen/jesse/drug_repurpose/PrimeKG/nodes.csv\"\n",
    "EDGE_FILE = \"/playpen/jesse/drug_repurpose/PrimeKG/edges.csv\"\n",
    "\n",
    "# Load nodes and edges\n",
    "print(\"Loading node data...\")\n",
    "df_node = pd.read_csv(NODE_FILE)\n",
    "\n",
    "print(\"Loading edge data...\")\n",
    "df_edges = pd.read_csv(EDGE_FILE)\n",
    "\n",
    "print(f\"Loaded {len(df_node)} nodes and {len(df_edges)} edges\")"
   ]
  },
  {
   "cell_type": "markdown",
   "metadata": {},
   "source": [
    "## Create Node Type Maps"
   ]
  },
  {
   "cell_type": "code",
   "execution_count": null,
   "metadata": {},
   "source": [
    "# Create node mapping dictionaries\n",
    "print(\"Creating node mappings...\")\n",
    "node_type_map = dict(zip(df_node['node_index'], df_node['node_type']))\n",
    "node_name_map = dict(zip(df_node['node_index'], df_node['node_name']))\n",
    "\n",
    "# Get node type sets for faster filtering\n",
    "disease_nodes = set(df_node[df_node['node_type'] == 'disease']['node_index'])\n",
    "drug_nodes = set(df_node[df_node['node_type'] == 'drug']['node_index'])\n",
    "gene_protein_nodes = set(df_node[df_node['node_type'] == 'gene/protein']['node_index'])\n",
    "phenotype_nodes = set(df_node[df_node['node_type'] == 'effect/phenotype']['node_index'])\n",
    "\n",
    "print(f\"Disease nodes: {len(disease_nodes)}\")\n",
    "print(f\"Drug nodes: {len(drug_nodes)}\")\n",
    "print(f\"Gene/protein nodes: {len(gene_protein_nodes)}\")\n",
    "print(f\"Phenotype nodes: {len(phenotype_nodes)}\")"
   ]
  },
  {
   "cell_type": "markdown",
   "metadata": {},
   "source": [
    "## Filter Edges by Type\n",
    "\n",
    "Pre-filter edges to improve performance"
   ]
  },
  {
   "cell_type": "code",
   "execution_count": null,
   "metadata": {},
   "source": [
    "print(\"Pre-filtering edges by type...\")\n",
    "start_time = time.time()\n",
    "\n",
    "# Direct disease-drug edges\n",
    "disease_drug_direct = df_edges[\n",
    "    (df_edges['x_index'].isin(disease_nodes)) & \n",
    "    (df_edges['y_index'].isin(drug_nodes)) & \n",
    "    (df_edges['relation'].isin(['indication', 'contraindication', 'off-label use']))\n",
    "]\n",
    "\n",
    "drug_disease_direct = df_edges[\n",
    "    (df_edges['x_index'].isin(drug_nodes)) & \n",
    "    (df_edges['y_index'].isin(disease_nodes)) & \n",
    "    (df_edges['relation'].isin(['indication', 'contraindication', 'off-label use']))\n",
    "]\n",
    "\n",
    "# Disease-protein edges\n",
    "disease_protein = df_edges[\n",
    "    (df_edges['x_index'].isin(disease_nodes)) & \n",
    "    (df_edges['y_index'].isin(gene_protein_nodes)) & \n",
    "    (df_edges['relation'] == 'disease_protein')\n",
    "]\n",
    "\n",
    "# Protein-drug edges\n",
    "protein_drug = df_edges[\n",
    "    (df_edges['x_index'].isin(gene_protein_nodes)) & \n",
    "    (df_edges['y_index'].isin(drug_nodes)) & \n",
    "    (df_edges['relation'] == 'drug_protein')\n",
    "]\n",
    "\n",
    "# Disease-phenotype edges\n",
    "disease_phenotype = df_edges[\n",
    "    (df_edges['x_index'].isin(disease_nodes)) & \n",
    "    (df_edges['y_index'].isin(phenotype_nodes)) & \n",
    "    (df_edges['relation'] == 'disease_phenotype_positive')\n",
    "]\n",
    "\n",
    "# Phenotype-protein edges\n",
    "phenotype_protein = df_edges[\n",
    "    (df_edges['x_index'].isin(phenotype_nodes)) & \n",
    "    (df_edges['y_index'].isin(gene_protein_nodes)) & \n",
    "    (df_edges['relation'] == 'phenotype_protein')\n",
    "]\n",
    "\n",
    "# Disease-disease edges\n",
    "disease_disease = df_edges[\n",
    "    (df_edges['x_index'].isin(disease_nodes)) & \n",
    "    (df_edges['y_index'].isin(disease_nodes)) & \n",
    "    (df_edges['relation'] == 'disease_disease')\n",
    "]\n",
    "\n",
    "print(f\"Edge filtering completed in {time.time() - start_time:.2f} seconds\")\n",
    "print(f\"Disease-drug direct edges: {len(disease_drug_direct)}\")\n",
    "print(f\"Drug-disease direct edges: {len(drug_disease_direct)}\")\n",
    "print(f\"Disease-protein edges: {len(disease_protein)}\")\n",
    "print(f\"Protein-drug edges: {len(protein_drug)}\")\n",
    "print(f\"Disease-phenotype edges: {len(disease_phenotype)}\")\n",
    "print(f\"Phenotype-protein edges: {len(phenotype_protein)}\")\n",
    "print(f\"Disease-disease edges: {len(disease_disease)}\")"
   ]
  },
  {
   "cell_type": "markdown",
   "metadata": {},
   "source": [
    "## Create Lookup Dictionaries\n",
    "\n",
    "Build fast lookup dictionaries for path construction"
   ]
  },
  {
   "cell_type": "code",
   "execution_count": null,
   "metadata": {},
   "source": [
    "print(\"Creating lookup dictionaries...\")\n",
    "start_time = time.time()\n",
    "\n",
    "# Create protein-drug lookup\n",
    "protein_to_drugs = defaultdict(list)\n",
    "for _, row in protein_drug.iterrows():\n",
    "    protein_to_drugs[row['x_index']].append(row['y_index'])\n",
    "\n",
    "# Create phenotype-protein lookup\n",
    "phenotype_to_proteins = defaultdict(list)\n",
    "for _, row in phenotype_protein.iterrows():\n",
    "    phenotype_to_proteins[row['x_index']].append(row['y_index'])\n",
    "\n",
    "# Create disease-drug lookup with relation\n",
    "disease_to_drugs = defaultdict(list)\n",
    "for _, row in disease_drug_direct.iterrows():\n",
    "    disease_to_drugs[row['x_index']].append((row['y_index'], row['relation']))\n",
    "\n",
    "# Track drug-disease relations (reverse direction)\n",
    "for _, row in drug_disease_direct.iterrows():\n",
    "    # Store with the disease as key but mark as reverse direction\n",
    "    disease_to_drugs[row['y_index']].append((row['x_index'], row['relation'] + '_reverse'))\n",
    "\n",
    "print(f\"Lookup dictionaries created in {time.time() - start_time:.2f} seconds\")"
   ]
  },
  {
   "cell_type": "markdown",
   "metadata": {},
   "source": [
    "## Find Direct Disease-Drug Relations"
   ]
  },
  {
   "cell_type": "code",
   "execution_count": null,
   "metadata": {},
   "source": [
    "def find_direct_disease_drug_relations():\n",
    "    print(\"Finding direct disease-drug relations...\")\n",
    "    start_time = time.time()\n",
    "    direct_relations = []\n",
    "    \n",
    "    # Process disease→drug edges\n",
    "    for _, row in disease_drug_direct.iterrows():\n",
    "        direct_relations.append({\n",
    "            'disease_index': row['x_index'],\n",
    "            'disease_name': node_name_map[row['x_index']],\n",
    "            'drug_index': row['y_index'],\n",
    "            'drug_name': node_name_map[row['y_index']],\n",
    "            'relation': row['relation'],\n",
    "            'path_type': 'direct'\n",
    "        })\n",
    "    \n",
    "    # Process drug→disease edges\n",
    "    for _, row in drug_disease_direct.iterrows():\n",
    "        direct_relations.append({\n",
    "            'disease_index': row['y_index'],\n",
    "            'disease_name': node_name_map[row['y_index']],\n",
    "            'drug_index': row['x_index'],\n",
    "            'drug_name': node_name_map[row['x_index']],\n",
    "            'relation': row['relation'],\n",
    "            'path_type': 'direct_reverse'\n",
    "        })\n",
    "        \n",
    "    print(f\"Found {len(direct_relations)} direct relations in {time.time() - start_time:.2f} seconds\")\n",
    "    return direct_relations\n",
    "\n",
    "direct_relations = find_direct_disease_drug_relations()"
   ]
  },
  {
   "cell_type": "markdown",
   "metadata": {},
   "source": [
    "## Find Disease-Protein-Drug Paths"
   ]
  },
  {
   "cell_type": "code",
   "execution_count": null,
   "metadata": {},
   "source": [
    "def find_disease_protein_drug_paths():\n",
    "    print(\"Finding disease-protein-drug paths...\")\n",
    "    start_time = time.time()\n",
    "    indirect_paths = []\n",
    "    \n",
    "    # Process in chunks for better performance\n",
    "    chunk_size = 10000\n",
    "    for chunk_start in tqdm(range(0, len(disease_protein), chunk_size)):\n",
    "        chunk_end = min(chunk_start + chunk_size, len(disease_protein))\n",
    "        chunk = disease_protein.iloc[chunk_start:chunk_end]\n",
    "        \n",
    "        for _, row in chunk.iterrows():\n",
    "            disease = row['x_index']\n",
    "            protein = row['y_index']\n",
    "            \n",
    "            # Find drugs connected to this protein\n",
    "            for drug in protein_to_drugs.get(protein, []):\n",
    "                indirect_paths.append({\n",
    "                    'disease_index': disease,\n",
    "                    'disease_name': node_name_map[disease],\n",
    "                    'protein_index': protein,\n",
    "                    'protein_name': node_name_map[protein],\n",
    "                    'drug_index': drug,\n",
    "                    'drug_name': node_name_map[drug],\n",
    "                    'path_type': 'disease-protein-drug'\n",
    "                })\n",
    "    \n",
    "    print(f\"Found {len(indirect_paths)} disease-protein-drug paths in {time.time() - start_time:.2f} seconds\")\n",
    "    return indirect_paths\n",
    "\n",
    "disease_protein_drug_paths = find_disease_protein_drug_paths()"
   ]
  },
  {
   "cell_type": "markdown",
   "metadata": {},
   "source": [
    "## Find Disease-Phenotype-Protein-Drug Paths"
   ]
  },
  {
   "cell_type": "code",
   "execution_count": null,
   "metadata": {},
   "source": [
    "def find_disease_phenotype_protein_drug_paths():\n",
    "    print(\"Finding disease-phenotype-protein-drug paths...\")\n",
    "    start_time = time.time()\n",
    "    complex_paths = []\n",
    "    \n",
    "    # Process in chunks for better performance\n",
    "    chunk_size = 1000\n",
    "    for chunk_start in tqdm(range(0, len(disease_phenotype), chunk_size)):\n",
    "        chunk_end = min(chunk_start + chunk_size, len(disease_phenotype))\n",
    "        chunk = disease_phenotype.iloc[chunk_start:chunk_end]\n",
    "        \n",
    "        for _, row in chunk.iterrows():\n",
    "            disease = row['x_index']\n",
    "            phenotype = row['y_index']\n",
    "            \n",
    "            # Get proteins connected to this phenotype\n",
    "            for protein in phenotype_to_proteins.get(phenotype, []):\n",
    "                # Get drugs connected to this protein\n",
    "                for drug in protein_to_drugs.get(protein, []):\n",
    "                    complex_paths.append({\n",
    "                        'disease_index': disease,\n",
    "                        'disease_name': node_name_map[disease],\n",
    "                        'phenotype_index': phenotype,\n",
    "                        'phenotype_name': node_name_map[phenotype],\n",
    "                        'protein_index': protein,\n",
    "                        'protein_name': node_name_map[protein],\n",
    "                        'drug_index': drug,\n",
    "                        'drug_name': node_name_map[drug],\n",
    "                        'path_type': 'disease-phenotype-protein-drug'\n",
    "                    })\n",
    "                    \n",
    "                    # Limit output size if it gets too large\n",
    "                    if len(complex_paths) >= 1000000:\n",
    "                        print(\"Warning: Reached 1 million paths, stopping early\")\n",
    "                        return complex_paths\n",
    "    \n",
    "    print(f\"Found {len(complex_paths)} disease-phenotype-protein-drug paths in {time.time() - start_time:.2f} seconds\")\n",
    "    return complex_paths\n",
    "\n",
    "disease_phenotype_paths = find_disease_phenotype_protein_drug_paths()"
   ]
  },
  {
   "cell_type": "markdown",
   "metadata": {},
   "source": [
    "## Find Disease-Disease-Drug Paths"
   ]
  },
  {
   "cell_type": "code",
   "execution_count": null,
   "metadata": {},
   "source": [
    "def find_disease_disease_drug_paths():\n",
    "    print(\"Finding disease-disease-drug paths...\")\n",
    "    start_time = time.time()\n",
    "    disease_disease_paths = []\n",
    "    \n",
    "    # Process in chunks for better performance\n",
    "    chunk_size = 5000\n",
    "    for chunk_start in tqdm(range(0, len(disease_disease), chunk_size)):\n",
    "        chunk_end = min(chunk_start + chunk_size, len(disease_disease))\n",
    "        chunk = disease_disease.iloc[chunk_start:chunk_end]\n",
    "        \n",
    "        for _, row in chunk.iterrows():\n",
    "            d1 = row['x_index']\n",
    "            d2 = row['y_index']\n",
    "            \n",
    "            # Get drugs connected to the second disease\n",
    "            for drug, relation in disease_to_drugs.get(d2, []):\n",
    "                path_type = 'disease-disease-drug'\n",
    "                if '_reverse' in relation:\n",
    "                    relation = relation.replace('_reverse', '')\n",
    "                    path_type = 'disease-disease-drug-reverse'\n",
    "                    \n",
    "                disease_disease_paths.append({\n",
    "                    'disease1_index': d1,\n",
    "                    'disease1_name': node_name_map[d1],\n",
    "                    'disease2_index': d2,\n",
    "                    'disease2_name': node_name_map[d2],\n",
    "                    'drug_index': drug,\n",
    "                    'drug_name': node_name_map[drug],\n",
    "                    'final_relation': relation,\n",
    "                    'path_type': path_type\n",
    "                })\n",
    "    \n",
    "    print(f\"Found {len(disease_disease_paths)} disease-disease-drug paths in {time.time() - start_time:.2f} seconds\")\n",
    "    return disease_disease_paths\n",
    "\n",
    "disease_disease_paths = find_disease_disease_drug_paths()"
   ]
  },
  {
   "cell_type": "markdown",
   "metadata": {},
   "source": [
    "## Save Results to CSV"
   ]
  },
  {
   "cell_type": "code",
   "execution_count": null,
   "metadata": {},
   "source": [
    "print(\"Saving results to CSV files...\")\n",
    "\n",
    "# Save to CSV files\n",
    "pd.DataFrame(direct_relations).to_csv('direct_disease_drug_relations.csv', index=False)\n",
    "pd.DataFrame(disease_protein_drug_paths).to_csv('disease_protein_drug_paths.csv', index=False)\n",
    "pd.DataFrame(disease_phenotype_paths).to_csv('disease_phenotype_protein_drug_paths.csv', index=False)\n",
    "pd.DataFrame(disease_disease_paths).to_csv('disease_disease_drug_paths.csv', index=False)\n",
    "\n",
    "print(\"CSV files saved successfully\")"
   ]
  },
  {
   "cell_type": "markdown",
   "metadata": {},
   "source": [
    "## Summary Statistics"
   ]
  },
  {
   "cell_type": "code",
   "execution_count": null,
   "metadata": {},
   "source": [
    "print(\"Summary Statistics:\")\n",
    "print(f\"Direct disease-drug relations: {len(direct_relations)}\")\n",
    "print(f\"Disease-protein-drug paths: {len(disease_protein_drug_paths)}\")\n",
    "print(f\"Disease-phenotype-protein-drug paths: {len(disease_phenotype_paths)}\")\n",
    "print(f\"Disease-disease-drug paths: {len(disease_disease_paths)}\")\n",
    "print(f\"Total paths found: {len(direct_relations) + len(disease_protein_drug_paths) + len(disease_phenotype_paths) + len(disease_disease_paths)}\")"
   ]
  }
 ],
 "metadata": {
  "kernelspec": {
   "display_name": "Python 3",
   "language": "python",
   "name": "python3"
  },
  "language_info": {
   "codemirror_mode": {
    "name": "ipython",
    "version": 3
   },
   "file_extension": ".py",
   "mimetype": "text/x-python",
   "name": "python",
   "nbconvert_exporter": "python",
   "pygments_lexer": "ipython3",
   "version": "3.8.10"
  }
 },
 "nbformat": 4,
 "nbformat_minor": 4
}