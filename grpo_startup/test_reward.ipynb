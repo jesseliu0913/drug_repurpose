{
 "cells": [
  {
   "cell_type": "code",
   "execution_count": null,
   "id": "605626e3",
   "metadata": {},
   "outputs": [],
   "source": [
    "import re\n",
    "from typing import Optional\n",
    "\n",
    "FIRST_YES_NO_RE = re.compile(r\"\\b(YES|NO)\\b\", re.IGNORECASE)\n",
    "\n",
    "def extract_pred(completion: str) -> Optional[str]:\n",
    "    match = FIRST_YES_NO_RE.search(completion)\n",
    "    return match.group(1).upper() if match else None\n"
   ]
  },
  {
   "cell_type": "code",
   "execution_count": null,
   "id": "37bcdb6f",
   "metadata": {},
   "outputs": [
    {
     "name": "stdout",
     "output_type": "stream",
     "text": [
      "'I think the answer is NO because…' -> NO\n",
      "'Answer: YES. Here’s why…' -> YES\n",
      "'Maybe no? Actually yes!' -> NO\n",
      "'Neither yes nor no.' -> YES\n"
     ]
    }
   ],
   "source": [
    "for s in [\n",
    "    \"I think the answer is NO because…\",\n",
    "    \"Answer: YES. Here’s why…\",\n",
    "    \"Maybe no? Actually yes!\",\n",
    "    \"Neither yes nor no.\"\n",
    "]:\n",
    "    print(f\"{s!r} ->\", extract_pred(s))\n"
   ]
  }
 ],
 "metadata": {
  "kernelspec": {
   "display_name": "dynh",
   "language": "python",
   "name": "python3"
  },
  "language_info": {
   "codemirror_mode": {
    "name": "ipython",
    "version": 3
   },
   "file_extension": ".py",
   "mimetype": "text/x-python",
   "name": "python",
   "nbconvert_exporter": "python",
   "pygments_lexer": "ipython3",
   "version": "3.11.11"
  }
 },
 "nbformat": 4,
 "nbformat_minor": 5
}
