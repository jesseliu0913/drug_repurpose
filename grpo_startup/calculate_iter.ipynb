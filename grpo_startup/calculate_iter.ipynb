{
 "cells": [
  {
   "cell_type": "code",
   "execution_count": 2,
   "id": "be227c5e",
   "metadata": {},
   "outputs": [
    {
     "name": "stdout",
     "output_type": "stream",
     "text": [
      "Dataset=2000, GPUs=3, effective_batch=48\n",
      "→ Set --num_iterations 14\n"
     ]
    }
   ],
   "source": [
    "# calc_iters.py\n",
    "import math, torch, argparse, pandas as pd\n",
    "\n",
    "\n",
    "\n",
    "N = 2000\n",
    "P = 3\n",
    "S = 16 * 1 * P\n",
    "iters = math.ceil(2 * N / (6 * S))\n",
    "\n",
    "print(f\"Dataset={N}, GPUs={P}, effective_batch={S}\")\n",
    "print(f\"→ Set --num_iterations {iters}\")\n"
   ]
  },
  {
   "cell_type": "code",
   "execution_count": null,
   "id": "403e7503",
   "metadata": {},
   "outputs": [],
   "source": [
    "# calc_iters.py\n",
    "import math, torch, argparse, pandas as pd\n",
    "\n",
    "ap = argparse.ArgumentParser()\n",
    "ap.add_argument(\"--csv\", required=True)\n",
    "ap.add_argument(\"--epochs\", type=float, default=2)\n",
    "ap.add_argument(\"--num_generations\", type=int, default=4)\n",
    "ap.add_argument(\"--batch\", type=int, default=2)\n",
    "ap.add_argument(\"--accum\", type=int, default=4)\n",
    "args = ap.parse_args()\n",
    "\n",
    "N = len(pd.read_csv(args.csv))\n",
    "P = torch.cuda.device_count() or 1\n",
    "S = args.batch * args.accum * P\n",
    "iters = math.ceil(args.epochs * N / (args.num_generations * S))\n",
    "\n",
    "print(f\"Dataset={N}, GPUs={P}, effective_batch={S}\")\n",
    "print(f\"→ Set --num_iterations {iters}\")\n"
   ]
  }
 ],
 "metadata": {
  "kernelspec": {
   "display_name": "af3",
   "language": "python",
   "name": "python3"
  },
  "language_info": {
   "codemirror_mode": {
    "name": "ipython",
    "version": 3
   },
   "file_extension": ".py",
   "mimetype": "text/x-python",
   "name": "python",
   "nbconvert_exporter": "python",
   "pygments_lexer": "ipython3",
   "version": "3.10.17"
  }
 },
 "nbformat": 4,
 "nbformat_minor": 5
}
