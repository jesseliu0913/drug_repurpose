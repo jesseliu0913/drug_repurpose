{
 "cells": [
  {
   "cell_type": "code",
   "execution_count": 1,
   "id": "de1137a3",
   "metadata": {},
   "outputs": [
    {
     "name": "stdout",
     "output_type": "stream",
     "text": [
      "   disease_index                               disease_name  drug_index  \\\n",
      "0          30094                antithrombin III deficiency       14510   \n",
      "1          32617  hereditary breast ovarian cancer syndrome       15413   \n",
      "2          35641                                   epilepsy       14598   \n",
      "3          35641                                   epilepsy       14336   \n",
      "4          35966                            prostate cancer       15777   \n",
      "\n",
      "     drug_name          relation  total_paths  path_type_diversity  protein  \\\n",
      "0      Heparin  contraindication            1                    1      1.0   \n",
      "1  Gemcitabine        indication            5                    2      4.0   \n",
      "2   Dronabinol  contraindication            2                    1      2.0   \n",
      "3    Ephedrine  contraindication            5                    2      4.0   \n",
      "4  Oxandrolone  contraindication            7                    3      1.0   \n",
      "\n",
      "   protein_percent  phenotype_percent  ...  exposure_gene_percent  \\\n",
      "0       100.000000                0.0  ...                    0.0   \n",
      "1        80.000000                0.0  ...                    0.0   \n",
      "2       100.000000                0.0  ...                    0.0   \n",
      "3        80.000000                0.0  ...                    0.0   \n",
      "4        14.285714                0.0  ...                    0.0   \n",
      "\n",
      "   exposure_bioprocess_percent  exposure_molfunc_percent  \\\n",
      "0                     0.000000                       0.0   \n",
      "1                     0.000000                       0.0   \n",
      "2                     0.000000                       0.0   \n",
      "3                     0.000000                       0.0   \n",
      "4                    57.142857                       0.0   \n",
      "\n",
      "   exposure_cellcomp_percent  disease  exposure_bioprocess  phenotype  \\\n",
      "0                        0.0      NaN                  NaN        NaN   \n",
      "1                        0.0      1.0                  NaN        NaN   \n",
      "2                        0.0      NaN                  NaN        NaN   \n",
      "3                        0.0      1.0                  NaN        NaN   \n",
      "4                        0.0      2.0                  4.0        NaN   \n",
      "\n",
      "   exposure_gene  exposure_molfunc  exposure_cellcomp  \n",
      "0            NaN               NaN                NaN  \n",
      "1            NaN               NaN                NaN  \n",
      "2            NaN               NaN                NaN  \n",
      "3            NaN               NaN                NaN  \n",
      "4            NaN               NaN                NaN  \n",
      "\n",
      "[5 rows x 21 columns]\n"
     ]
    }
   ],
   "source": [
    "import os\n",
    "import pandas as pd\n",
    "\n",
    "\n",
    "path_file = \"/playpen/jesse/drug_repurpose/split_data/path_data/disease_drug_pair_path_analysis.csv\"\n",
    "path_data = pd.read_csv(path_file)\n",
    "print(path_data.head())"
   ]
  }
 ],
 "metadata": {
  "kernelspec": {
   "display_name": "dynh",
   "language": "python",
   "name": "python3"
  },
  "language_info": {
   "codemirror_mode": {
    "name": "ipython",
    "version": 3
   },
   "file_extension": ".py",
   "mimetype": "text/x-python",
   "name": "python",
   "nbconvert_exporter": "python",
   "pygments_lexer": "ipython3",
   "version": "3.10.16"
  }
 },
 "nbformat": 4,
 "nbformat_minor": 5
}
