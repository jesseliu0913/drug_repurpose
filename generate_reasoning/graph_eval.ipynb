{
 "cells": [
  {
   "cell_type": "code",
   "execution_count": 2,
   "metadata": {},
   "outputs": [
    {
     "name": "stdout",
     "output_type": "stream",
     "text": [
      "Degrees: {1: 2, 2: 2, 3: 3, 4: 2, 5: 1}\n",
      "Degree Centrality: {1: 0.5, 2: 0.5, 3: 0.75, 4: 0.5, 5: 0.25}\n",
      "Eigenvector Centrality: {1: 0.4971525984525413, 2: 0.4971525984525413, 3: 0.6037035301706529, 4: 0.34248744909850964, 5: 0.15467056143060928}\n",
      "Density: 0.5\n",
      "Clustering Coefficient: 0.4666666666666667\n"
     ]
    }
   ],
   "source": [
    "import networkx as nx\n",
    "\n",
    "G = nx.Graph()\n",
    "G.add_edges_from([(1,2),(1,3),(2,3),(3,4),(4,5)])\n",
    "\n",
    "\n",
    "degree = dict(G.degree())\n",
    "print(\"Degrees:\", degree)\n",
    "\n",
    "degree_centrality = nx.degree_centrality(G)\n",
    "print(\"Degree Centrality:\", degree_centrality)\n",
    "\n",
    "eigen_centrality = nx.eigenvector_centrality(G)\n",
    "print(\"Eigenvector Centrality:\", eigen_centrality)\n",
    "\n",
    "density = nx.density(G)\n",
    "print(\"Density:\", density)\n",
    "\n",
    "clustering_coef = nx.average_clustering(G)\n",
    "print(\"Clustering Coefficient:\", clustering_coef)\n"
   ]
  }
 ],
 "metadata": {
  "kernelspec": {
   "display_name": "dynh",
   "language": "python",
   "name": "python3"
  },
  "language_info": {
   "codemirror_mode": {
    "name": "ipython",
    "version": 3
   },
   "file_extension": ".py",
   "mimetype": "text/x-python",
   "name": "python",
   "nbconvert_exporter": "python",
   "pygments_lexer": "ipython3",
   "version": "3.10.16"
  }
 },
 "nbformat": 4,
 "nbformat_minor": 2
}
