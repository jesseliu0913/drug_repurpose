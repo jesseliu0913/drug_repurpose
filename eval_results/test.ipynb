{
 "cells": [
  {
   "cell_type": "code",
   "execution_count": 25,
   "id": "3d2f426b",
   "metadata": {},
   "outputs": [],
   "source": [
    "import os\n",
    "os.environ['CUDA_VISIBLE_DEVICES'] = '5'  \n",
    "import torch\n",
    "import pandas as pd\n",
    "from peft import PeftModel,PeftConfig\n",
    "from datasets import load_dataset\n",
    "from transformers import AutoTokenizer, AutoModelForCausalLM, pipeline\n",
    "\n"
   ]
  },
  {
   "cell_type": "code",
   "execution_count": 26,
   "id": "9b3121f9",
   "metadata": {},
   "outputs": [
    {
     "name": "stderr",
     "output_type": "stream",
     "text": [
      "Loading checkpoint shards: 100%|██████████| 2/2 [00:00<00:00, 42.42it/s]\n"
     ]
    }
   ],
   "source": [
    "model_name = \"meta-llama/Llama-3.2-3B-Instruct\"\n",
    "adapter_name = \"/playpen/jesse/drug_repurpose/grpo_startup/results/20250530_1705/models/llama32-3b-pagerank-partial-baseline-grpo-lora/final_model\"\n",
    "token = os.getenv(\"HF_TOKEN\")\n",
    "\n",
    "peft_cfg = PeftConfig.from_pretrained(adapter_name, use_auth_token=token)\n",
    "base_name = peft_cfg.base_model_name_or_path or model_name\n",
    "tokenizer = AutoTokenizer.from_pretrained(adapter_name, use_auth_token=token)\n",
    "\n",
    "base_model = AutoModelForCausalLM.from_pretrained(base_name, torch_dtype=\"auto\", use_auth_token=token)\n",
    "base_model.resize_token_embeddings(len(tokenizer))\n",
    "\n",
    "model = PeftModel.from_pretrained(base_model, adapter_name, torch_dtype=\"auto\")\n",
    "\n",
    "device = \"cuda:0\" if torch.cuda.is_available() else \"cpu\"\n",
    "model = model.to(device)"
   ]
  },
  {
   "cell_type": "code",
   "execution_count": 29,
   "id": "f87313e2",
   "metadata": {},
   "outputs": [
    {
     "name": "stderr",
     "output_type": "stream",
     "text": [
      "Setting `pad_token_id` to `eos_token_id`:128001 for open-end generation.\n"
     ]
    },
    {
     "name": "stdout",
     "output_type": "stream",
     "text": [
      "{'input_ids': tensor([[128000,  14924,     25,   2209,  47972,  53911,  47862,    535,  15748,\n",
      "          83066,   2223,  26878,    897,  59386,   4245,    311,    480,     21,\n",
      "           4977,     18,  48294,    459,  28137,    369,  61626,  91703,     30,\n",
      "           6089,   4320,    757,    449,    400,  14331,      3,    477,    400,\n",
      "           9173,  26101,  11954,  40451,     25]], device='cuda:0'), 'attention_mask': tensor([[1, 1, 1, 1, 1, 1, 1, 1, 1, 1, 1, 1, 1, 1, 1, 1, 1, 1, 1, 1, 1, 1, 1, 1,\n",
      "         1, 1, 1, 1, 1, 1, 1, 1, 1, 1, 1, 1, 1, 1, 1, 1, 1]], device='cuda:0')}\n"
     ]
    },
    {
     "data": {
      "text/plain": [
       "'$NO$'"
      ]
     },
     "execution_count": 29,
     "metadata": {},
     "output_type": "execute_result"
    }
   ],
   "source": [
    "# Triaining dataset\n",
    "input_text = \"Question: Is autosomal recessive severe congenital neutropenia due to G6PC3 deficiency an indication for Fluoxetine? directly answer me with $YES$ or $NO$\\nANSWER:\"\n",
    "inputs = tokenizer(input_text, return_tensors=\"pt\").to(model.device)\n",
    "print(inputs)\n",
    "\n",
    "output = model.generate(**inputs, max_new_tokens=1000, do_sample=True, temperature=0.2)\n",
    "answer = tokenizer.decode(output[0], skip_special_tokens=True)\n",
    "answer = answer.replace(input_text, \"\").strip()\n",
    "answer"
   ]
  },
  {
   "cell_type": "code",
   "execution_count": 30,
   "id": "382d9f91",
   "metadata": {},
   "outputs": [
    {
     "name": "stderr",
     "output_type": "stream",
     "text": [
      "Setting `pad_token_id` to `eos_token_id`:128001 for open-end generation.\n"
     ]
    },
    {
     "data": {
      "text/plain": [
       "'$NO$'"
      ]
     },
     "execution_count": 30,
     "metadata": {},
     "output_type": "execute_result"
    }
   ],
   "source": [
    "# Testing dataset\n",
    "input_text = \"Question: Is pancreatitis an indication for Spironolactone? directly answer me with $YES$ or $NO$\\nANSWER:\"\n",
    "inputs = tokenizer(input_text, return_tensors=\"pt\").to(model.device)\n",
    "\n",
    "output = model.generate(**inputs, max_new_tokens=1000, do_sample=True, temperature=0.2)\n",
    "answer = tokenizer.decode(output[0], skip_special_tokens=True)\n",
    "answer = answer.replace(input_text, \"\").strip()\n",
    "answer"
   ]
  },
  {
   "cell_type": "code",
   "execution_count": null,
   "id": "3fa9d719",
   "metadata": {},
   "outputs": [],
   "source": [
    "# Triamcinolone,disease,aspiration pneumonia (disease)"
   ]
  }
 ],
 "metadata": {
  "kernelspec": {
   "display_name": "dynh",
   "language": "python",
   "name": "python3"
  },
  "language_info": {
   "codemirror_mode": {
    "name": "ipython",
    "version": 3
   },
   "file_extension": ".py",
   "mimetype": "text/x-python",
   "name": "python",
   "nbconvert_exporter": "python",
   "pygments_lexer": "ipython3",
   "version": "3.10.16"
  }
 },
 "nbformat": 4,
 "nbformat_minor": 5
}
