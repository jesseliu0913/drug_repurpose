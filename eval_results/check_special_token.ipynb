{
 "cells": [
  {
   "cell_type": "code",
   "execution_count": 1,
   "id": "5d07aab7",
   "metadata": {},
   "outputs": [
    {
     "name": "stderr",
     "output_type": "stream",
     "text": [
      "/home/jesseliu/miniconda3/envs/dynh/lib/python3.10/site-packages/tqdm/auto.py:21: TqdmWarning: IProgress not found. Please update jupyter and ipywidgets. See https://ipywidgets.readthedocs.io/en/stable/user_install.html\n",
      "  from .autonotebook import tqdm as notebook_tqdm\n"
     ]
    }
   ],
   "source": [
    "import os\n",
    "import json\n",
    "import torch\n",
    "import json\n",
    "import ast\n",
    "import argparse\n",
    "import jsonlines\n",
    "\n",
    "import pandas as pd\n",
    "from peft import PeftModel,PeftConfig\n",
    "from datasets import load_dataset\n",
    "from transformers import AutoTokenizer, AutoModelForCausalLM, pipeline\n",
    "user_token = os.getenv(\"HF_TOKEN\")\n",
    "\n",
    "model_name = \"meta-llama/Llama-3.2-3B-Instruct\"\n",
    "adapter_name = \"JesseLiu/llama32-3b-kpath\""
   ]
  },
  {
   "cell_type": "code",
   "execution_count": 2,
   "id": "a7120620",
   "metadata": {},
   "outputs": [
    {
     "name": "stderr",
     "output_type": "stream",
     "text": [
      "Loading checkpoint shards: 100%|██████████| 2/2 [00:01<00:00,  1.14it/s]\n"
     ]
    }
   ],
   "source": [
    "peft_cfg = PeftConfig.from_pretrained(adapter_name, use_auth_token=user_token)\n",
    "base_name = peft_cfg.base_model_name_or_path or model_name\n",
    "\n",
    "tokenizer = AutoTokenizer.from_pretrained(adapter_name, use_auth_token=user_token)\n",
    "tokenizer.pad_token = tokenizer.eos_token\n",
    "tokenizer.padding_side = \"right\"\n",
    "new_special_tokens = ['<degd>', '<ddd>', '<decgd>',\n",
    "                    '<demgd>', '<debgd>', '<dppd>', '<dpd>']\n",
    "tokenizer.add_special_tokens({'additional_special_tokens': new_special_tokens})\n",
    "\n",
    "base_model = AutoModelForCausalLM.from_pretrained(\n",
    "    base_name,\n",
    "    torch_dtype=\"auto\",\n",
    "    device_map=\"auto\",\n",
    "    use_auth_token=user_token,\n",
    ")\n",
    "\n",
    "base_model.resize_token_embeddings(len(tokenizer))\n",
    "\n",
    "model = PeftModel.from_pretrained(\n",
    "    base_model,\n",
    "    adapter_name,\n",
    "    torch_dtype=\"auto\",\n",
    ")"
   ]
  },
  {
   "cell_type": "code",
   "execution_count": 3,
   "id": "9ae699f3",
   "metadata": {},
   "outputs": [
    {
     "name": "stdout",
     "output_type": "stream",
     "text": [
      "True\n",
      "128257\n",
      "['<ddd>']\n"
     ]
    }
   ],
   "source": [
    "print('<ddd>' in tokenizer.additional_special_tokens)  \n",
    "print(tokenizer.convert_tokens_to_ids('<ddd>'))        \n",
    "print(tokenizer.tokenize('<ddd>'))  "
   ]
  }
 ],
 "metadata": {
  "kernelspec": {
   "display_name": "dynh",
   "language": "python",
   "name": "python3"
  },
  "language_info": {
   "codemirror_mode": {
    "name": "ipython",
    "version": 3
   },
   "file_extension": ".py",
   "mimetype": "text/x-python",
   "name": "python",
   "nbconvert_exporter": "python",
   "pygments_lexer": "ipython3",
   "version": "3.10.16"
  }
 },
 "nbformat": 4,
 "nbformat_minor": 5
}
